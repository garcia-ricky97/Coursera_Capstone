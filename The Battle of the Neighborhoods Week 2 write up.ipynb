{
 "cells": [
  {
   "cell_type": "markdown",
   "metadata": {
    "collapsed": true
   },
   "source": [
    "# The Battle of the Neighborhoods Week 2 Write Up"
   ]
  },
  {
   "cell_type": "markdown",
   "metadata": {},
   "source": [
    "## Introduction:"
   ]
  },
  {
   "cell_type": "markdown",
   "metadata": {},
   "source": [
    "We were tasked by Company Z to locate a suitable neighborhood for a potential Mexican restaurant to thrive. This proved a daunting task, as New York is notorious for its size and complexity, so we utilized a technique covered in one of the previous labs to accomplish this. This report will serve as the answer to their question: 'Where should we open a Mexican restaurant?'."
   ]
  },
  {
   "cell_type": "markdown",
   "metadata": {},
   "source": [
    "## Data:"
   ]
  },
  {
   "cell_type": "markdown",
   "metadata": {},
   "source": [
    "Our dataset on New York was supplemented directly from the Skills Network, and our population data came from the New York government website. We used the population data to tabulate the population of each neighborhood."
   ]
  },
  {
   "cell_type": "markdown",
   "metadata": {},
   "source": [
    "## Methodology:"
   ]
  },
  {
   "cell_type": "markdown",
   "metadata": {},
   "source": [
    "Our approach to this project and analysis was fairly simple. We began by using our Foursquare API to get the coordinates of each of New York's boroughs, and from there, we proceeded to break down the boroughs into neighborhoods. Once this was accomplished, we then produced a frequency table, breaking down the frequency of specific attractions relative to each neighborhood. We then grouped all of our individual dataframes on each borough's frequency table (divided by neighborhoods) into one major dataframe. This dataframe was then focused onto the columns of 'Mexican Restaurant' and 'Neighborhood.' From there, we isolated the neighborhoods with a frequency value of 0, and used our population data to manually input each of the 30 values. Once this was achieved, we formed the 'Population'/'Neighborhood' dataframe and searched for the maximum value, leading to our conclusion.  "
   ]
  },
  {
   "cell_type": "markdown",
   "metadata": {},
   "source": [
    "## Results:"
   ]
  },
  {
   "cell_type": "markdown",
   "metadata": {},
   "source": [
    "Upon the completion of our analysis, we found Stuyvesant Town to be an ideal location for the Mexican restaurant. Out of the 30 neighborhoods that had a 'Mexican Restaurant' frequency of zero, Stuyvesant Town had the highest population with 106,357 people living there."
   ]
  },
  {
   "cell_type": "markdown",
   "metadata": {},
   "source": [
    "## Discussion:"
   ]
  },
  {
   "cell_type": "markdown",
   "metadata": {},
   "source": [
    "Our results are depending on the assumption that neighborhoods with a negligable number of Mexican Restaurants and a high population living there are ideal grounds for opening up a new Mexican Restaurant, as competiton would be scarce and the potential customer base is large. "
   ]
  },
  {
   "cell_type": "markdown",
   "metadata": {},
   "source": [
    "## Conclusion:"
   ]
  },
  {
   "cell_type": "markdown",
   "metadata": {},
   "source": [
    "After our thorough analysis, we ended up suggesting to Company Z the neighborhood of Stuyvesant Town to be an optimal location for opening a new Mexican restaurant, largely due to a lack of competition and a large population. "
   ]
  },
  {
   "cell_type": "code",
   "execution_count": null,
   "metadata": {},
   "outputs": [],
   "source": []
  }
 ],
 "metadata": {
  "kernelspec": {
   "display_name": "Python 3.6",
   "language": "python",
   "name": "python3"
  },
  "language_info": {
   "codemirror_mode": {
    "name": "ipython",
    "version": 3
   },
   "file_extension": ".py",
   "mimetype": "text/x-python",
   "name": "python",
   "nbconvert_exporter": "python",
   "pygments_lexer": "ipython3",
   "version": "3.6.9"
  }
 },
 "nbformat": 4,
 "nbformat_minor": 1
}
