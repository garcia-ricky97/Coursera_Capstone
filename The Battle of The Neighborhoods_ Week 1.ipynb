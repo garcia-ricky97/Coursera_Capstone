{
 "cells": [
  {
   "cell_type": "markdown",
   "metadata": {},
   "source": [
    "## The Battle of the Neighborhoods – Week 1"
   ]
  },
  {
   "cell_type": "markdown",
   "metadata": {},
   "source": [
    "### Problem Background:"
   ]
  },
  {
   "cell_type": "markdown",
   "metadata": {
    "collapsed": true
   },
   "source": [
    "New York is one of the most iconic cities in the United States, with an extremely diverse population, a growing number of activities for locals, and a plethora of bars and restaurants. It has a very prominent LGBTQ community, and it will always be a city that is near and dear to my heart. It has a rapidly growing technology industry that everybody seeks to be a part of and is the fiscal capital of the United States.With such a bustling and busy area such as New York, the hunger to open your own business is strong; particularly restaurants. As with any new business, research and analysis must be done. \n",
    "\n",
    "\n",
    "\n"
   ]
  },
  {
   "cell_type": "markdown",
   "metadata": {},
   "source": [
    "### Problem Description:"
   ]
  },
  {
   "cell_type": "markdown",
   "metadata": {},
   "source": [
    "As most people know, a restaurant is usually a vital member of its community by serving enticing and usually unique food. New York has many restaurants who follow this tradition of being a location for locals to hang out while eating delicious food. Food cuisine in New York is extremely diverse, varying from Vietnamese to American, as well as some pockets of culture specific food such as Dominican food. In order to not only survive but thrive in such a cutthroat market, one must consider the local population in which they would like to open up the restaurant, the target group of their population, surrounding business, and competitors. The more unique, the better!\n",
    "I have been hired by Company X to achieve the task of determining where a Mexican restaurant may thrive within the city of New York, which would seek to target a large percentage of the population whilst ensuring that relative competition won't prevent this restaurant from succeeding.\n"
   ]
  },
  {
   "cell_type": "markdown",
   "metadata": {},
   "source": [
    "### Success Criteria:"
   ]
  },
  {
   "cell_type": "markdown",
   "metadata": {},
   "source": [
    "Succeeding in this project would equate to discovering potential new locations for Company X’s restaurant where they could potentially thrive; the findings of this analysis would also serve other individuals looking to open up their restaurant. "
   ]
  },
  {
   "cell_type": "markdown",
   "metadata": {},
   "source": [
    "### Data:"
   ]
  },
  {
   "cell_type": "markdown",
   "metadata": {},
   "source": [
    "Our data will be sourced from: 'https://cocl.us/new_york_dataset'\n",
    "Utilizing the available geospatial data, we will proceed to compare popular venues in the area, determining where would our Mexican restaurant thrive best with the least amount of competition. "
   ]
  },
  {
   "cell_type": "code",
   "execution_count": null,
   "metadata": {},
   "outputs": [],
   "source": []
  }
 ],
 "metadata": {
  "kernelspec": {
   "display_name": "Python 3.6",
   "language": "python",
   "name": "python3"
  },
  "language_info": {
   "codemirror_mode": {
    "name": "ipython",
    "version": 3
   },
   "file_extension": ".py",
   "mimetype": "text/x-python",
   "name": "python",
   "nbconvert_exporter": "python",
   "pygments_lexer": "ipython3",
   "version": "3.6.9"
  }
 },
 "nbformat": 4,
 "nbformat_minor": 1
}
